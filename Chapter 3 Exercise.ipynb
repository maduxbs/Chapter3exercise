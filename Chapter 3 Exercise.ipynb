{
 "cells": [
  {
   "cell_type": "markdown",
   "id": "d3a8a347",
   "metadata": {},
   "source": [
    "## Chapter 3 Ex\n",
    "\n",
    "Algorithm Workbench (Two Question)"
   ]
  },
  {
   "cell_type": "markdown",
   "id": "435598a6",
   "metadata": {},
   "source": [
    "## Ex 4"
   ]
  },
  {
   "cell_type": "code",
   "execution_count": 24,
   "id": "150b6b54",
   "metadata": {},
   "outputs": [
    {
     "name": "stdout",
     "output_type": "stream",
     "text": [
      "Enter your score:85\n",
      "Your grade is B\n"
     ]
    }
   ],
   "source": [
    "# Define the score thresholds\n",
    "A_score = 90\n",
    "B_score = 80\n",
    "C_score = 70\n",
    "D_score = 60\n",
    "F_score = 0\n",
    "\n",
    "# Get the user's score as input\n",
    "score = int(input('Enter your score:'))\n",
    "\n",
    "# Determine the grade based on the score\n",
    "if score >= A_score:\n",
    "    print('Your grade is A.')\n",
    "elif score >= B_score:\n",
    "    print('Your grade is B')\n",
    "elif score >= C_score:\n",
    "    print('Your grade is C')\n",
    "elif score >= D_socre:\n",
    "    print('Your grade is D')\n",
    "elif score >= F_score:\n",
    "    print('Your grade is F')\n",
    "else:\n",
    "    print('Invalid score.')\n"
   ]
  },
  {
   "cell_type": "markdown",
   "id": "adbe0c34",
   "metadata": {},
   "source": [
    "## Ex 5"
   ]
  },
  {
   "cell_type": "code",
   "execution_count": 36,
   "id": "e5499f86",
   "metadata": {},
   "outputs": [
    {
     "name": "stdout",
     "output_type": "stream",
     "text": [
      "The greater amount is: 50\n"
     ]
    }
   ],
   "source": [
    "# Assuming you have two variables amount1 and amount2\n",
    "amount1 = 15\n",
    "amount2 = 50\n",
    "\n",
    "# Check if amount1 is greater than 10\n",
    "if amount1 > 10:\n",
    "    # If amount1 is greater than 10, check if amount2 is less than 100\n",
    "    if amount2 < 100:\n",
    "        # If both conditions are met, compare amount1 and amount2\n",
    "        if amount1 > amount2:\n",
    "            #Uf amount1 is greater, display it\n",
    "            print(\"The greater amount is:\", amount1)\n",
    "        else:\n",
    "            # If amount2 is greater or equal, display it\n",
    "            print(\"The greater amount is:\", amount2)\n",
    "    else:\n",
    "        # If amount2 is not less than 100, display an appropriate message\n",
    "        print(\"amount2 is not less than 100\")\n",
    "else:\n",
    "    # If amount1 is not greater than 10, display an appropriate message\n",
    "    print(\"amount1 is not greater than 10\")"
   ]
  },
  {
   "cell_type": "markdown",
   "id": "d1815266",
   "metadata": {},
   "source": [
    "## Programming Exercise (four questions) "
   ]
  },
  {
   "cell_type": "markdown",
   "id": "47ccc1ed",
   "metadata": {},
   "source": [
    "## Ex 1"
   ]
  },
  {
   "cell_type": "code",
   "execution_count": 38,
   "id": "60fd4117",
   "metadata": {},
   "outputs": [
    {
     "name": "stdout",
     "output_type": "stream",
     "text": [
      "Enter a number (1-7): 2\n",
      "The corresponding day of the week is: Tuesday\n"
     ]
    }
   ],
   "source": [
    "# Ask the user for a number in the range of 1 through 7\n",
    "try:\n",
    "    user_input = int(input(\"Enter a number (1-7): \"))\n",
    "\n",
    "    # Check if the user's input is within the valid range\n",
    "    if 1 <= user_input <= 7:\n",
    "        # Map the user's input to the corresponding day of the week\n",
    "        if user_input == 1:\n",
    "            day_of_week = \"Monday\"\n",
    "        elif user_input == 2:\n",
    "            day_of_week = \"Tuesday\"\n",
    "        elif user_input == 3:\n",
    "            day_of_week = \"Wednesday\"\n",
    "        elif user_input == 4:\n",
    "            day_of_week = \"Thursday\"\n",
    "        elif user_input == 5:\n",
    "            day_of_week = \"Friday\"\n",
    "        elif user_input == 6:\n",
    "            day_of_week = \"Saturday\"\n",
    "        else:\n",
    "            day_of_week = \"Sunday\"\n",
    "\n",
    "        # Display the corresponding day of the week\n",
    "        print(\"The corresponding day of the week is:\", day_of_week)\n",
    "    else:\n",
    "        # Display an error message for input outside the valid range\n",
    "        print(\"Error: Please enter a number in the range of 1 through 7.\")\n",
    "except ValueError:\n",
    "    # Display an error message for non-integer input\n",
    "    print(\"Error: Please enter a valid number.\")"
   ]
  },
  {
   "cell_type": "markdown",
   "id": "db76b522",
   "metadata": {},
   "source": [
    "## Ex 5"
   ]
  },
  {
   "cell_type": "code",
   "execution_count": 39,
   "id": "deb72622",
   "metadata": {},
   "outputs": [
    {
     "name": "stdout",
     "output_type": "stream",
     "text": [
      "Enter the mass of the object in kilograms: 9.8\n",
      "The object is too light. Weight: 96.04000000000002 newtons\n"
     ]
    }
   ],
   "source": [
    "# Ask the user for the mass of the object in kilograms\n",
    "try:\n",
    "    mass = float(input(\"Enter the mass of the object in kilograms: \"))\n",
    "\n",
    "    # Calculate the weight in newtons using the formula\n",
    "    weight = mass * 9.8\n",
    "\n",
    "    # Check if the object is too heavy or too light\n",
    "    if weight > 500:\n",
    "        print(\"The object is too heavy. Weight:\", weight, \"newtons\")\n",
    "    elif weight < 100:\n",
    "        print(\"The object is too light. Weight:\", weight, \"newtons\")\n",
    "    else:\n",
    "        print(\"The object's weight is within an acceptable range. Weight:\", weight, \"newtons\")\n",
    "except ValueError:\n",
    "    # Display an error message for non-numeric input\n",
    "    print(\"Error: Please enter a valid numeric mass.\")"
   ]
  },
  {
   "cell_type": "markdown",
   "id": "b48ec134",
   "metadata": {},
   "source": [
    "## Ex. 15"
   ]
  },
  {
   "cell_type": "code",
   "execution_count": 1,
   "id": "1c8bb919",
   "metadata": {},
   "outputs": [
    {
     "name": "stdout",
     "output_type": "stream",
     "text": [
      "Enter a number of seconds: 60\n",
      "1 minute(s), 0 second(s)\n"
     ]
    }
   ],
   "source": [
    "# Ask the user to enter a number of seconds\n",
    "try:\n",
    "    seconds = int(input(\"Enter a number of seconds: \"))\n",
    "\n",
    "    if seconds < 0:\n",
    "        print(\"Error: Please enter a non-negative number of seconds.\")\n",
    "    else:\n",
    "        # Calculate days, hours, minutes, and remaining seconds\n",
    "        days = seconds // 86400\n",
    "        seconds %= 86400\n",
    "        hours = seconds // 3600\n",
    "        seconds %= 3600\n",
    "        minutes = seconds // 60\n",
    "        seconds %= 60\n",
    "\n",
    "        # Display the converted time\n",
    "        if days > 0:\n",
    "            print(f\"{days} day(s), {hours} hour(s), {minutes} minute(s), {seconds} second(s)\")\n",
    "        elif hours > 0:\n",
    "            print(f\"{hours} hour(s), {minutes} minute(s), {seconds} second(s)\")\n",
    "        elif minutes > 0:\n",
    "            print(f\"{minutes} minute(s), {seconds} second(s)\")\n",
    "        else:\n",
    "            print(f\"{seconds} second(s)\")\n",
    "except ValueError:\n",
    "    # Display an error message for non-numeric input\n",
    "    print(\"Error: Please enter a valid numeric value for seconds.\")\n"
   ]
  },
  {
   "cell_type": "markdown",
   "id": "807800d7",
   "metadata": {},
   "source": [
    "## Ex. 16"
   ]
  },
  {
   "cell_type": "code",
   "execution_count": 2,
   "id": "0dfba550",
   "metadata": {},
   "outputs": [
    {
     "name": "stdout",
     "output_type": "stream",
     "text": [
      "Enter a year: 2008\n",
      "In 2008, February has 29 days.\n"
     ]
    }
   ],
   "source": [
    "# Ask the user to enter a year\n",
    "try:\n",
    "    year = int(input(\"Enter a year: \"))\n",
    "\n",
    "    if year < 0:\n",
    "        print(\"Error: Please enter a positive year.\")\n",
    "    else:\n",
    "        # Check if the year is a leap year\n",
    "        if (year % 100 == 0 and year % 400 == 0) or (year % 100 != 0 and year % 4 == 0):\n",
    "            # Leap year: February has 29 days\n",
    "            print(f\"In {year}, February has 29 days.\")\n",
    "        else:\n",
    "            # Non-leap year: February has 28 days\n",
    "            print(f\"In {year}, February has 28 days.\")\n",
    "except ValueError:\n",
    "    # Display an error message for non-numeric input\n",
    "    print(\"Error: Please enter a valid numeric year.\")"
   ]
  },
  {
   "cell_type": "code",
   "execution_count": null,
   "id": "f5730568",
   "metadata": {},
   "outputs": [],
   "source": []
  },
  {
   "cell_type": "code",
   "execution_count": null,
   "id": "82f39277",
   "metadata": {},
   "outputs": [],
   "source": []
  }
 ],
 "metadata": {
  "kernelspec": {
   "display_name": "Python 3 (ipykernel)",
   "language": "python",
   "name": "python3"
  },
  "language_info": {
   "codemirror_mode": {
    "name": "ipython",
    "version": 3
   },
   "file_extension": ".py",
   "mimetype": "text/x-python",
   "name": "python",
   "nbconvert_exporter": "python",
   "pygments_lexer": "ipython3",
   "version": "3.11.4"
  }
 },
 "nbformat": 4,
 "nbformat_minor": 5
}
